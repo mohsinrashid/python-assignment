{
 "cells": [
  {
   "cell_type": "code",
   "execution_count": 13,
   "metadata": {},
   "outputs": [
    {
     "name": "stdout",
     "output_type": "stream",
     "text": [
      "Enter the name of Student:Mohsin Rashid\n",
      "----------------------------------------------------------\n",
      "Enter the marks of English:20\n",
      "Enter the marks of Urdu:25\n",
      "Enter the marks of Maths:15\n",
      "Enter the marks of Science:19\n",
      "Enter the marks of Islamiat:21\n",
      "Your grade is A+.\n",
      "Total marks you obtained: 100\n"
     ]
    }
   ],
   "source": [
    "name=input(\"Enter the name of Student:\")\n",
    "print(\"----------------------------------------------------------\")\n",
    "eng=int(input(\"Enter the marks of English:\"))\n",
    "urdu=int(input(\"Enter the marks of Urdu:\"))\n",
    "maths=int(input(\"Enter the marks of Maths:\"))\n",
    "sci=int(input(\"Enter the marks of Science:\"))\n",
    "isl=int(input(\"Enter the marks of Islamiat:\"))\n",
    "total=eng+urdu+maths+sci+isl\n",
    "if total<50:\n",
    "    print(\"Sorry you are fail.\")\n",
    "elif total <=60:\n",
    "    print(\"Your grade is D.\")\n",
    "elif total <=70:\n",
    "    print(\"Your grade is C.\")\n",
    "elif total <=80:\n",
    "    print(\"Your grade is B.\")\n",
    "elif total <=90:\n",
    "    print(\"Your grade is A.\")\n",
    "else:\n",
    "    print(\"Your grade is A+.\")\n",
    "print(\"Total marks you obtained:\",total)"
   ]
  }
 ],
 "metadata": {
  "kernelspec": {
   "display_name": "Python 3",
   "language": "python",
   "name": "python3"
  },
  "language_info": {
   "codemirror_mode": {
    "name": "ipython",
    "version": 3
   },
   "file_extension": ".py",
   "mimetype": "text/x-python",
   "name": "python",
   "nbconvert_exporter": "python",
   "pygments_lexer": "ipython3",
   "version": "3.7.4"
  }
 },
 "nbformat": 4,
 "nbformat_minor": 2
}
