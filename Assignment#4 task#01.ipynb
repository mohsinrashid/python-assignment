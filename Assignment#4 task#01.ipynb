{
 "cells": [
  {
   "cell_type": "code",
   "execution_count": 26,
   "metadata": {},
   "outputs": [
    {
     "name": "stdout",
     "output_type": "stream",
     "text": [
      "first name: M.Mohsin\n",
      "last name: Rashid\n",
      "age: 21\n",
      "city: karachi\n",
      "=======After ADD new key value pair=========\n",
      "first name: M.Mohsin\n",
      "last name: Rashid\n",
      "age: 21\n",
      "city: karachi\n",
      "qualification: BS(CS)\n",
      "=======After DELETE new key value pair=======\n",
      "first name: M.Mohsin\n",
      "last name: Rashid\n",
      "age: 21\n",
      "city: karachi\n"
     ]
    }
   ],
   "source": [
    "dic = {\n",
    "  \"first name:\": \"M.Mohsin\",\n",
    "  \"last name:\": \"Rashid\",\n",
    "  \"age:\": 21,\n",
    "  \"city:\":\"karachi\"\n",
    "}\n",
    "for x, y in dic.items():\n",
    "      print(x, y)\n",
    "print(\"=======After ADD new key value pair=========\")\n",
    "dic[\"qualification:\"] =\"BS(CS)\"\n",
    "for x, y in dic.items():\n",
    "      print(x, y)\n",
    "print(\"=======After DELETE new key value pair=======\") \n",
    "del dic[\"qualification:\"]\n",
    "for x, y in dic.items():\n",
    "      print(x, y)"
   ]
  },
  {
   "cell_type": "code",
   "execution_count": null,
   "metadata": {},
   "outputs": [],
   "source": []
  },
  {
   "cell_type": "code",
   "execution_count": null,
   "metadata": {},
   "outputs": [],
   "source": []
  }
 ],
 "metadata": {
  "kernelspec": {
   "display_name": "Python 3",
   "language": "python",
   "name": "python3"
  },
  "language_info": {
   "codemirror_mode": {
    "name": "ipython",
    "version": 3
   },
   "file_extension": ".py",
   "mimetype": "text/x-python",
   "name": "python",
   "nbconvert_exporter": "python",
   "pygments_lexer": "ipython3",
   "version": "3.7.4"
  }
 },
 "nbformat": 4,
 "nbformat_minor": 2
}
