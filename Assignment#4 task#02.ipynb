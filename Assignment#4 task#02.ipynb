{
 "cells": [
  {
   "cell_type": "code",
   "execution_count": 14,
   "metadata": {},
   "outputs": [
    {
     "name": "stdout",
     "output_type": "stream",
     "text": [
      "\n",
      "Peshawar is the city of: Pakistan\n",
      "Population of the city is: 5 million\n",
      "Fact about the city is: Beautiful\n",
      "\n",
      "Karachi is the city of: Pakistan\n",
      "Population of the city is: 10 Million\n",
      "Fact about the city is: Economical Hub\n",
      "\n",
      "Islamabad is the city of: Pakistan\n",
      "Population of the city is: 1 million\n",
      "Fact about the city is: Capital Of Pakistan\n"
     ]
    }
   ],
   "source": [
    "cities = {\n",
    "    \"peshawar\":{\"country\":\"Pakistan\",\"Population\":\"5 million\",'fact':\"Beautiful\"},\n",
    "    \"karachi\":{\"country\":\"Pakistan\",\"Population\":\"10 Million\",\"fact\":\"Economical Hub\"},\n",
    "    \"islamabad\":{\"country\":\"Pakistan\",\"Population\":\"1 million\",\"fact\":\"Capital Of Pakistan\"}\n",
    "         }\n",
    "\n",
    "for city, info in cities.items():\n",
    "    country = info['country'].title()\n",
    "    population = info['Population']\n",
    "    fact=info['fact']\n",
    "\n",
    "\n",
    "    print(\"\\n\" + city.title() + \" is the city of: \" + country)\n",
    "    print(\"Population of the city is: \" +(population))\n",
    "    print(\"Fact about the city is: \" + (fact))\n"
   ]
  },
  {
   "cell_type": "code",
   "execution_count": null,
   "metadata": {},
   "outputs": [],
   "source": []
  }
 ],
 "metadata": {
  "kernelspec": {
   "display_name": "Python 3",
   "language": "python",
   "name": "python3"
  },
  "language_info": {
   "codemirror_mode": {
    "name": "ipython",
    "version": 3
   },
   "file_extension": ".py",
   "mimetype": "text/x-python",
   "name": "python",
   "nbconvert_exporter": "python",
   "pygments_lexer": "ipython3",
   "version": "3.7.4"
  }
 },
 "nbformat": 4,
 "nbformat_minor": 2
}
