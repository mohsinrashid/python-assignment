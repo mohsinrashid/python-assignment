{
 "cells": [
  {
   "cell_type": "code",
   "execution_count": 16,
   "metadata": {},
   "outputs": [
    {
     "name": "stdout",
     "output_type": "stream",
     "text": [
      "Enter the first number:5\n",
      "Enter the second number:3\n",
      "Enter the operator: **\n",
      "Answer: 125\n"
     ]
    }
   ],
   "source": [
    "a=int(input(\"Enter the first number:\"))\n",
    "b=int(input(\"Enter the second number:\"))\n",
    "c=input(\"Enter the operator: \")\n",
    "\n",
    "if c =='+':\n",
    "    d=a+b\n",
    "    print(\"Answer:\",d)\n",
    "elif c =='-':\n",
    "    d=a-b\n",
    "    print(\"Answer:\",d)\n",
    "elif c =='*':\n",
    "    d=a*b\n",
    "    print(\"Answer:\",d)\n",
    "elif c =='/':\n",
    "    d=a/b\n",
    "    print(\"Answer:\",d)\n",
    "elif c =='**':\n",
    "    d=a**b\n",
    "    print(\"Answer:\",d)\n",
    "else:\n",
    "    print(\"Error wrong operator!\")"
   ]
  },
  {
   "cell_type": "code",
   "execution_count": null,
   "metadata": {},
   "outputs": [],
   "source": []
  }
 ],
 "metadata": {
  "kernelspec": {
   "display_name": "Python 3",
   "language": "python",
   "name": "python3"
  },
  "language_info": {
   "codemirror_mode": {
    "name": "ipython",
    "version": 3
   },
   "file_extension": ".py",
   "mimetype": "text/x-python",
   "name": "python",
   "nbconvert_exporter": "python",
   "pygments_lexer": "ipython3",
   "version": "3.7.4"
  }
 },
 "nbformat": 4,
 "nbformat_minor": 2
}
