{
 "cells": [
  {
   "cell_type": "code",
   "execution_count": 11,
   "metadata": {},
   "outputs": [
    {
     "name": "stdout",
     "output_type": "stream",
     "text": [
      "Ticket prices is depending on a person’s age so please enter your age!\n",
      "what is your age: 5\n",
      "your ticket price is $10!\n"
     ]
    }
   ],
   "source": [
    "print(\"Ticket prices is depending on a person’s age so please enter your age!\")\n",
    "age = int(input(\"what is your age: \"))\n",
    "for i in range(3):\n",
    "    if age <=3:\n",
    "        print(\"your ticket is free!\")\n",
    "        break\n",
    "    if age >3 and age <=12:\n",
    "        print(\"your ticket price is $10!\")\n",
    "        break\n",
    "    if age > 12:\n",
    "        print(\"your ticket price is $15!\")\n",
    "        break"
   ]
  },
  {
   "cell_type": "code",
   "execution_count": null,
   "metadata": {},
   "outputs": [],
   "source": []
  }
 ],
 "metadata": {
  "kernelspec": {
   "display_name": "Python 3",
   "language": "python",
   "name": "python3"
  },
  "language_info": {
   "codemirror_mode": {
    "name": "ipython",
    "version": 3
   },
   "file_extension": ".py",
   "mimetype": "text/x-python",
   "name": "python",
   "nbconvert_exporter": "python",
   "pygments_lexer": "ipython3",
   "version": "3.7.4"
  }
 },
 "nbformat": 4,
 "nbformat_minor": 2
}
