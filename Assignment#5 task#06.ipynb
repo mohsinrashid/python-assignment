{
 "cells": [
  {
   "cell_type": "code",
   "execution_count": 34,
   "metadata": {},
   "outputs": [
    {
     "name": "stdout",
     "output_type": "stream",
     "text": [
      "Items user bought:\n",
      "\n",
      "\tvegetables\n",
      "\tfruits\n",
      "\tcake\n",
      "\tcoke\n"
     ]
    }
   ],
   "source": [
    "def shopping(*items):\n",
    "    print(\"Items user bought:\\n\")\n",
    "    for item in items:\n",
    "        print(f\"\\t{item}\")\n",
    "        \n",
    "shopping(\"vegetables\",\"fruits\",\"cake\",\"coke\")"
   ]
  }
 ],
 "metadata": {
  "kernelspec": {
   "display_name": "Python 3",
   "language": "python",
   "name": "python3"
  },
  "language_info": {
   "codemirror_mode": {
    "name": "ipython",
    "version": 3
   },
   "file_extension": ".py",
   "mimetype": "text/x-python",
   "name": "python",
   "nbconvert_exporter": "python",
   "pygments_lexer": "ipython3",
   "version": "3.7.4"
  }
 },
 "nbformat": 4,
 "nbformat_minor": 2
}
