{
 "cells": [
  {
   "cell_type": "code",
   "execution_count": 6,
   "metadata": {},
   "outputs": [
    {
     "name": "stdout",
     "output_type": "stream",
     "text": [
      "Guess the number game!\n",
      "Guess the number you have 3 chances to guess the number!\n",
      "********************HINT*******************\n",
      "Try a number between 20 and 30!\n",
      "enter your guess: 25\n",
      "your guess is wrong!\n",
      "enter your guess: 21\n",
      "your guess is wrong!\n",
      "enter your guess: 28\n",
      "your guess is wrong!\n",
      "Right answer is: 29\n"
     ]
    }
   ],
   "source": [
    "import random\n",
    "random=random.randint(1,30)\n",
    "print(\"Guess the number game!\")\n",
    "print(\"Guess the number you have 3 chances to guess the number!\")\n",
    "print(\"********************HINT*******************\")\n",
    "if random>= 1 and random < 10:\n",
    "    print(\"Try a number between 1 and 10!\")\n",
    "elif random>= 10 and random< 20:\n",
    "    print(\"Try a number between 10 and 20!\")\n",
    "elif random>= 20 and random< 30:\n",
    "    print(\"Try a number between 20 and 30!\")\n",
    "for i in range(0,3):\n",
    "    user = int(input(\"enter your guess: \"))\n",
    "    if user < 1 or user > 30:\n",
    "        print(\"Choose a number between 1 and 30!\")\n",
    "    else:\n",
    "        if user == random:\n",
    "            print(\"Your guess is right!\")\n",
    "            break\n",
    "        else:\n",
    "            print(\"your guess is wrong!\")\n",
    "print(\"Right answer is:\",random)"
   ]
  }
 ],
 "metadata": {
  "kernelspec": {
   "display_name": "Python 3",
   "language": "python",
   "name": "python3"
  },
  "language_info": {
   "codemirror_mode": {
    "name": "ipython",
    "version": 3
   },
   "file_extension": ".py",
   "mimetype": "text/x-python",
   "name": "python",
   "nbconvert_exporter": "python",
   "pygments_lexer": "ipython3",
   "version": "3.7.4"
  }
 },
 "nbformat": 4,
 "nbformat_minor": 2
}
